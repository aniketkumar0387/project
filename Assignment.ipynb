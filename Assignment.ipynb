{
 "cells": [
  {
   "cell_type": "code",
   "execution_count": 19,
   "id": "59055185",
   "metadata": {},
   "outputs": [
    {
     "name": "stdout",
     "output_type": "stream",
     "text": [
      "Supervised Cosine Similarity: 0.934118317439667\n",
      "Unsupervised Cosine Similarity: 0.8510803699479844\n"
     ]
    }
   ],
   "source": [
    "from sklearn.decomposition import PCA\n",
    "from skimage import io, color,transform\n",
    "from skimage.metrics import structural_similarity as ssim\n",
    "import numpy as np\n",
    "\n",
    "# Load the images\n",
    "image1 = io.imread('OIP1.jpg')\n",
    "image2 = io.imread('OIP2.jpg')\n",
    "\n",
    "# Convert the images to grayscale\n",
    "gray_image1 = color.rgb2gray(image1)\n",
    "gray_image2 = color.rgb2gray(image2)\n",
    "\n",
    "# Resize the images to a common size\n",
    "resized_image1 = transform.resize(gray_image1, (256, 256))\n",
    "resized_image2 = transform.resize(gray_image2, (256, 256))\n",
    "\n",
    "# Extract features from the two grayscale images using supervised approach\n",
    "feature_vector1 = resized_image1.flatten()\n",
    "feature_vector2 = resized_image2.flatten()\n",
    "\n",
    "# Normalize the feature vectors\n",
    "feature_vector1 = feature_vector1 / np.linalg.norm(feature_vector1)\n",
    "feature_vector2 = feature_vector2 / np.linalg.norm(feature_vector2)\n",
    "\n",
    "# Compute the cosine similarity between the two feature vectors\n",
    "cosine_similarity_supervised = np.dot(feature_vector1, feature_vector2)\n",
    "\n",
    "# Extract features from the two grayscale images using unsupervised approach\n",
    "pca = PCA(n_components=1).fit(resized_image1)\n",
    "feature_vector1_unsupervised = pca.transform(resized_image1).ravel()\n",
    "\n",
    "pca = PCA(n_components=1).fit(resized_image2)\n",
    "feature_vector2_unsupervised = pca.transform(resized_image2).ravel()\n",
    "\n",
    "# Normalize the feature vectors\n",
    "feature_vector1_unsupervised = feature_vector1_unsupervised / np.linalg.norm(feature_vector1_unsupervised)\n",
    "feature_vector2_unsupervised = feature_vector2_unsupervised / np.linalg.norm(feature_vector2_unsupervised)\n",
    "\n",
    "# Compute the cosine similarity between the two feature vectors\n",
    "cosine_similarity_unsupervised = np.dot(feature_vector1_unsupervised, feature_vector2_unsupervised)\n",
    "\n",
    "# Print the similarity scores\n",
    "print(\"Supervised Cosine Similarity:\", cosine_similarity_supervised)\n",
    "print(\"Unsupervised Cosine Similarity:\", cosine_similarity_unsupervised) "
   ]
  },
  {
   "cell_type": "markdown",
   "id": "54ecb415",
   "metadata": {},
   "source": [
    "Based on the code, we can see that the images are first loaded and converted to grayscale. \n",
    "Then, both supervised and unsupervised approaches are used to extract features from the images. \n",
    "The feature vectors are then normalized and cosine similarity is computed for both approaches.\n",
    "\n",
    "The supervised approach uses the flattened resized images as feature vectors, whereas the unsupervised approach \n",
    "uses PCA to extract a single principal component from the resized images as feature vectors.\n",
    "\n",
    "Comparing the two similarity scores, we can see that the supervised approach yields a higher similarity \n",
    "score of 0.9341, whereas the unsupervised approach yields a lower similarity score of 0.8511.\n",
    "\n",
    "Therefore, based on this analysis, the supervised approach appears to be better at capturing the similarity \n",
    "between the two images. However, its worth noting that the choice of approach may depend on the specific\n",
    "use case and the type of images being analyzed."
   ]
  }
 ],
 "metadata": {
  "kernelspec": {
   "display_name": "Python 3 (ipykernel)",
   "language": "python",
   "name": "python3"
  },
  "language_info": {
   "codemirror_mode": {
    "name": "ipython",
    "version": 3
   },
   "file_extension": ".py",
   "mimetype": "text/x-python",
   "name": "python",
   "nbconvert_exporter": "python",
   "pygments_lexer": "ipython3",
   "version": "3.9.12"
  }
 },
 "nbformat": 4,
 "nbformat_minor": 5
}
